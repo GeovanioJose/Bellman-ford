{
  "nbformat": 4,
  "nbformat_minor": 0,
  "metadata": {
    "colab": {
      "provenance": [],
      "authorship_tag": "ABX9TyOvY2b2hFcd//E4JYxT7i9o",
      "include_colab_link": true
    },
    "kernelspec": {
      "name": "python3",
      "display_name": "Python 3"
    },
    "language_info": {
      "name": "python"
    }
  },
  "cells": [
    {
      "cell_type": "markdown",
      "metadata": {
        "id": "view-in-github",
        "colab_type": "text"
      },
      "source": [
        "<a href=\"https://colab.research.google.com/github/GeovanioJose/Bellman-ford/blob/main/Bellman_ford.ipynb\" target=\"_parent\"><img src=\"https://colab.research.google.com/assets/colab-badge.svg\" alt=\"Open In Colab\"/></a>"
      ]
    },
    {
      "cell_type": "markdown",
      "source": [
        "##Universidade Fedral do Agreste de Pernambuco\n",
        "##Bacharelado em CIência da Computação \n",
        "##Projto e Análise de Algoritmos\n",
        "###Prof. Dr. Álvaro Sobrinho\n",
        "###Discente: Geovânio José da Silva"
      ],
      "metadata": {
        "id": "gSDPymeEqez0"
      }
    },
    {
      "cell_type": "markdown",
      "source": [
        "## Algoritmo de Bellman-Ford \n",
        "\n",
        "utilizaremos o algoritmo de Bellman-Ford para solucionar o problema dos caminhos mais curtos. Bellman-Ford recebe como entrada  um digrafo (grafo orientado ou dirigido) ponderado, podendo conter pesos positivos e negativos.\n",
        "\n",
        "De fato, se assumirmos a ausência de ciclos negativos, podemos considerar que o menor caminho entre s e um nó t de G não terá nenhuma repetição de arestas ou nó. Logo, precisamos executar o procedimento V-1vezes,pois devemos considerar a participação de todos os nó menos a origem. \n",
        "\n",
        "Caso queiramos ver apresença de ciclos negativos basta executarmos a o relaxamento das arestas mais uma vez.\n",
        "\n",
        "Assim, os resultados parciais (obtidos apara cada uma das V - 1 iterações e registrados numa memória para casa nó) são combiunados para se conseguir uma solução ótima. Portanto, vemos claramente que a solução pode ser dada utilizando programação dinâmica: \n",
        "\n",
        "1.   Primeiro rersolvemos os subproblemas; \n",
        "2.   A solução é obtida usando a estratégia bottom-up;\n",
        "\n",
        "Logo abaixo podemos analizar seu pseudocódigo:"
      ],
      "metadata": {
        "id": "wtJCCyKig02o"
      }
    },
    {
      "cell_type": "markdown",
      "source": [
        "G é um grafo no formato G = (V,E), w[u,v] indica a distância entre u e v, d[v] é o caminho da origem e chegar até o vértice v, e, s é o vértice inicial.\n",
        "\n",
        "Após o término do algoritmo, para cada v pertencente aos vértices de G, d[v] representa a distância da raiz até o vértice v."
      ],
      "metadata": {
        "id": "PI4Ckzln7Q2v"
      }
    },
    {
      "cell_type": "code",
      "source": [
        "#Pseudocódigo\n",
        "BellmanFord(list vertices, list arestas, s)\n",
        "    \n",
        "  distancia[]\n",
        "  parent[]\n",
        "  for each vertex v in vertices\n",
        "    distancia[v] = INFINITY\n",
        "    parent[v] = NULL\n",
        "    \n",
        "  distancia[source] = 0\n",
        "\n",
        "  for i = 1 to V-1    // V – number of vertices\n",
        "     for each aresta (u, v) with weight w\n",
        "       if (distancia[u] + w) is less than distancia[v]\n",
        "          distancia[v] = distancia[u] + w\n",
        "          parent[v] = u\n",
        " \n",
        "  for each aresta (u, v) with weight w\n",
        "    if (distancia[u] + w) is less than distancia[v]\n",
        "        return “Graph contains a negative-weight cycle”\n",
        " \n",
        "return distancia[], parent[]\n",
        "\n",
        "#baseado na aula Programação Dinâmica: Caminho Mínimo, Exercícios, Recursão, Otimização, Pesquisa Operacional; disponibilizado em:<https://www.youtube.com/embed/f6DdO_eDzXY>\n",
        "#Caminhos mais curtos de fonte única - Algoritmo Bellman-Ford; disponiblizado em :<https://www.techiedelight.com/pt/single-source-shortest-paths-bellman-ford-algorithm/>"
      ],
      "metadata": {
        "id": "gBgU0VAi-alr"
      },
      "execution_count": null,
      "outputs": []
    },
    {
      "cell_type": "code",
      "source": [
        "import sys\n",
        " \n",
        "# Função recursivo para imprimir o caminho de um determinado vértice do vértice de origem\n",
        "def getPath(parent, vertex):\n",
        "    if vertex < 0:\n",
        "        return []\n",
        "    return getPath(parent, parent[vertex]) + [vertex]\n",
        " \n",
        "# Função para executar o algoritmo Bellman–Ford de uma determinada fonte\n",
        "def bellmanFord(edges, source, n):\n",
        "    # distance[] e parent[] armazena as informações do caminho mais curto\n",
        "    # Inicializamos o gráfico. No início, todos os vértices pesam um valor infinito,\n",
        "    # estamos utilizando a função sys.maxsize que retorna o maior valor que a varíavel suporta, substituindo o valor de infinito. \n",
        "    # e o predecessor ou pai recebe o valor nulo, exceto para a fonte, onde o peso é 0\n",
        "    distance = [sys.maxsize] * n\n",
        "    parent = [-1] * n\n",
        " \n",
        "    distance[source] = 0\n",
        " \n",
        "    # passo de relaxamento (executar V-1 vezes)\n",
        "    for k in range(n - 1):\n",
        "        # aresta de `u` a `v` com peso `w`\n",
        "        for (u, v, w) in edges:\n",
        "            # se a distância até o destino `v` puder ser reduzida tomando a aresta(u, v)\n",
        "            if distance[u] != sys.maxsize and distance[u] + w < distance[v]:\n",
        "                # distância de atualização para o novo valor mínimo\n",
        "                distance[v] = distance[u] + w\n",
        "                # define o pai de v como `u`\n",
        "                parent[v] = u\n",
        " \n",
        "    # execute a etapa de relaxamento mais uma vez pela enésima vez para verificar se há ciclos de peso negativo\n",
        "    for (u, v, w) in edges:  # aresta de `u` a `v` com peso `w`\n",
        "        # se a distância até o destino `u` puder ser reduzida tomando a aresta(u, v)\n",
        "        if distance[u] != sys.maxsize and distance[u] + w < distance[v]:\n",
        "            print('ciclo negativo foi encontrado!!')\n",
        "            return\n",
        " \n",
        "    for i in range(n):\n",
        "        if i != source and distance[i] < sys.maxsize:\n",
        "            print(f'A distancia do vértice {i} para o vértice {source} é {distance[i]}. '\n",
        "                  f'O caminho é', getPath(parent, i))\n",
        " \n",
        " \n",
        "if __name__ == '__main__':\n",
        " \n",
        "    # arestas do grafo conforme o diagrama acima\n",
        "    edges = [\n",
        "        # (x, y, w) —> aresta de `x` a `y` tendo peso `w`\n",
        "        (0, 1, 2), (0, 2, 4), (1, 2, 3), (2, 3, 2),\n",
        "        (1, 4, 4), (1, 5, 3), (3, 1, 1), (4, 3, -3),\n",
        "        (4, 6, -2), (4, 5, 2), (5, 6, 2), (5, 8, 4),\n",
        "        (6, 3, 5), (6, 9, 5), (7, 2, 8), (9, 4, -3)\n",
        "    ]\n",
        " \n",
        "    # define o número máximo de nós no gráfico\n",
        "    n = 10\n",
        " \n",
        "    # executa o algoritmo Bellman-Ford de cada nó\n",
        "    for source in range(n):\n",
        "        bellmanFord(edges, source, n)"
      ],
      "metadata": {
        "id": "0jbWPzVmeQJ6",
        "colab": {
          "base_uri": "https://localhost:8080/"
        },
        "outputId": "1adea1aa-c869-4160-fcb1-f65c36fe21fd"
      },
      "execution_count": 1,
      "outputs": [
        {
          "output_type": "stream",
          "name": "stdout",
          "text": [
            "A distancia do vértice 1 para o vértice 0 é 2. O caminho é [0, 1]\n",
            "A distancia do vértice 2 para o vértice 0 é 4. O caminho é [0, 2]\n",
            "A distancia do vértice 3 para o vértice 0 é 3. O caminho é [0, 1, 4, 3]\n",
            "A distancia do vértice 4 para o vértice 0 é 6. O caminho é [0, 1, 4]\n",
            "A distancia do vértice 5 para o vértice 0 é 5. O caminho é [0, 1, 5]\n",
            "A distancia do vértice 6 para o vértice 0 é 4. O caminho é [0, 1, 4, 6]\n",
            "A distancia do vértice 8 para o vértice 0 é 9. O caminho é [0, 1, 5, 8]\n",
            "A distancia do vértice 9 para o vértice 0 é 9. O caminho é [0, 1, 4, 6, 9]\n",
            "A distancia do vértice 2 para o vértice 1 é 3. O caminho é [1, 2]\n",
            "A distancia do vértice 3 para o vértice 1 é 1. O caminho é [1, 4, 3]\n",
            "A distancia do vértice 4 para o vértice 1 é 4. O caminho é [1, 4]\n",
            "A distancia do vértice 5 para o vértice 1 é 3. O caminho é [1, 5]\n",
            "A distancia do vértice 6 para o vértice 1 é 2. O caminho é [1, 4, 6]\n",
            "A distancia do vértice 8 para o vértice 1 é 7. O caminho é [1, 5, 8]\n",
            "A distancia do vértice 9 para o vértice 1 é 7. O caminho é [1, 4, 6, 9]\n",
            "A distancia do vértice 1 para o vértice 2 é 3. O caminho é [2, 3, 1]\n",
            "A distancia do vértice 3 para o vértice 2 é 2. O caminho é [2, 3]\n",
            "A distancia do vértice 4 para o vértice 2 é 7. O caminho é [2, 3, 1, 4]\n",
            "A distancia do vértice 5 para o vértice 2 é 6. O caminho é [2, 3, 1, 5]\n",
            "A distancia do vértice 6 para o vértice 2 é 5. O caminho é [2, 3, 1, 4, 6]\n",
            "A distancia do vértice 8 para o vértice 2 é 10. O caminho é [2, 3, 1, 5, 8]\n",
            "A distancia do vértice 9 para o vértice 2 é 10. O caminho é [2, 3, 1, 4, 6, 9]\n",
            "A distancia do vértice 1 para o vértice 3 é 1. O caminho é [3, 1]\n",
            "A distancia do vértice 2 para o vértice 3 é 4. O caminho é [3, 1, 2]\n",
            "A distancia do vértice 4 para o vértice 3 é 5. O caminho é [3, 1, 4]\n",
            "A distancia do vértice 5 para o vértice 3 é 4. O caminho é [3, 1, 5]\n",
            "A distancia do vértice 6 para o vértice 3 é 3. O caminho é [3, 1, 4, 6]\n",
            "A distancia do vértice 8 para o vértice 3 é 8. O caminho é [3, 1, 5, 8]\n",
            "A distancia do vértice 9 para o vértice 3 é 8. O caminho é [3, 1, 4, 6, 9]\n",
            "A distancia do vértice 1 para o vértice 4 é -2. O caminho é [4, 3, 1]\n",
            "A distancia do vértice 2 para o vértice 4 é 1. O caminho é [4, 3, 1, 2]\n",
            "A distancia do vértice 3 para o vértice 4 é -3. O caminho é [4, 3]\n",
            "A distancia do vértice 5 para o vértice 4 é 1. O caminho é [4, 3, 1, 5]\n",
            "A distancia do vértice 6 para o vértice 4 é -2. O caminho é [4, 6]\n",
            "A distancia do vértice 8 para o vértice 4 é 5. O caminho é [4, 3, 1, 5, 8]\n",
            "A distancia do vértice 9 para o vértice 4 é 3. O caminho é [4, 6, 9]\n",
            "A distancia do vértice 1 para o vértice 5 é 2. O caminho é [5, 6, 9, 4, 3, 1]\n",
            "A distancia do vértice 2 para o vértice 5 é 5. O caminho é [5, 6, 9, 4, 3, 1, 2]\n",
            "A distancia do vértice 3 para o vértice 5 é 1. O caminho é [5, 6, 9, 4, 3]\n",
            "A distancia do vértice 4 para o vértice 5 é 4. O caminho é [5, 6, 9, 4]\n",
            "A distancia do vértice 6 para o vértice 5 é 2. O caminho é [5, 6]\n",
            "A distancia do vértice 8 para o vértice 5 é 4. O caminho é [5, 8]\n",
            "A distancia do vértice 9 para o vértice 5 é 7. O caminho é [5, 6, 9]\n",
            "A distancia do vértice 1 para o vértice 6 é 0. O caminho é [6, 9, 4, 3, 1]\n",
            "A distancia do vértice 2 para o vértice 6 é 3. O caminho é [6, 9, 4, 3, 1, 2]\n",
            "A distancia do vértice 3 para o vértice 6 é -1. O caminho é [6, 9, 4, 3]\n",
            "A distancia do vértice 4 para o vértice 6 é 2. O caminho é [6, 9, 4]\n",
            "A distancia do vértice 5 para o vértice 6 é 3. O caminho é [6, 9, 4, 3, 1, 5]\n",
            "A distancia do vértice 8 para o vértice 6 é 7. O caminho é [6, 9, 4, 3, 1, 5, 8]\n",
            "A distancia do vértice 9 para o vértice 6 é 5. O caminho é [6, 9]\n",
            "A distancia do vértice 1 para o vértice 7 é 11. O caminho é [7, 2, 3, 1]\n",
            "A distancia do vértice 2 para o vértice 7 é 8. O caminho é [7, 2]\n",
            "A distancia do vértice 3 para o vértice 7 é 10. O caminho é [7, 2, 3]\n",
            "A distancia do vértice 4 para o vértice 7 é 15. O caminho é [7, 2, 3, 1, 4]\n",
            "A distancia do vértice 5 para o vértice 7 é 14. O caminho é [7, 2, 3, 1, 5]\n",
            "A distancia do vértice 6 para o vértice 7 é 13. O caminho é [7, 2, 3, 1, 4, 6]\n",
            "A distancia do vértice 8 para o vértice 7 é 18. O caminho é [7, 2, 3, 1, 5, 8]\n",
            "A distancia do vértice 9 para o vértice 7 é 18. O caminho é [7, 2, 3, 1, 4, 6, 9]\n",
            "A distancia do vértice 1 para o vértice 9 é -5. O caminho é [9, 4, 3, 1]\n",
            "A distancia do vértice 2 para o vértice 9 é -2. O caminho é [9, 4, 3, 1, 2]\n",
            "A distancia do vértice 3 para o vértice 9 é -6. O caminho é [9, 4, 3]\n",
            "A distancia do vértice 4 para o vértice 9 é -3. O caminho é [9, 4]\n",
            "A distancia do vértice 5 para o vértice 9 é -2. O caminho é [9, 4, 3, 1, 5]\n",
            "A distancia do vértice 6 para o vértice 9 é -5. O caminho é [9, 4, 6]\n",
            "A distancia do vértice 8 para o vértice 9 é 2. O caminho é [9, 4, 3, 1, 5, 8]\n"
          ]
        }
      ]
    }
  ]
}